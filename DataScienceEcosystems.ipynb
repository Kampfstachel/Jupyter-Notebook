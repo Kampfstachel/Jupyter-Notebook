{
 "cells": [
  {
   "cell_type": "markdown",
   "id": "fdda7550-462f-4a4d-9fb1-aeed52f0cf92",
   "metadata": {},
   "source": [
    "<h1>Data Science Tools and Ecosystems<h1>"
   ]
  },
  {
   "cell_type": "markdown",
   "id": "7636d565-c84e-4e69-9cf5-2a71e057ef7c",
   "metadata": {},
   "source": [
    "In this notebook, Data Science Tools and Ecosystem are summarized."
   ]
  },
  {
   "cell_type": "markdown",
   "id": "8e9232e4-a3fa-4b82-aa71-49205273b0c0",
   "metadata": {},
   "source": [
    "<b> Objectives: <b>\n",
    "\n",
    "Some of the popular languages that Data Scientists use are:\n",
    "1. Python\n",
    "2. Java\n",
    "3. C++\n",
    "4. C"
   ]
  },
  {
   "cell_type": "markdown",
   "id": "c8390bdd-9af0-4c6c-a5bf-e411f38ffb7d",
   "metadata": {},
   "source": [
    "Some of the commonly used libraries used by Data Scientists include:\n",
    "1. Tensor Flow\n",
    "2. NumPy\n",
    "3. SciPy"
   ]
  },
  {
   "cell_type": "markdown",
   "id": "538e621e-0a07-4f5e-b7ad-77786dc55402",
   "metadata": {},
   "source": [
    "<h1> Data Science Tools <h1>\n",
    "    \n",
    "1. RStudio\n",
    "2. Apache Spark\n",
    "3. Hadoop\n",
    "\n"
   ]
  },
  {
   "cell_type": "markdown",
   "id": "744e52c4-1c26-486e-a16b-7dd1481536be",
   "metadata": {},
   "source": [
    "<h3>Below are a few examples of evaluating arithmetic expressions in Python<h3"
   ]
  },
  {
   "cell_type": "code",
   "execution_count": 9,
   "id": "ba598a9b-22a1-4588-8ee3-8a6339a2e1bc",
   "metadata": {},
   "outputs": [
    {
     "data": {
      "text/plain": [
       "17"
      ]
     },
     "execution_count": 9,
     "metadata": {},
     "output_type": "execute_result"
    }
   ],
   "source": [
    "(3*4)+5\n",
    "## This a simple arithmetic expression to mutiply then add integers"
   ]
  },
  {
   "cell_type": "code",
   "execution_count": 10,
   "id": "f673c691-dc02-44ef-95d1-eb38144a4276",
   "metadata": {},
   "outputs": [
    {
     "data": {
      "text/plain": [
       "3.3333333333333335"
      ]
     },
     "execution_count": 10,
     "metadata": {},
     "output_type": "execute_result"
    }
   ],
   "source": [
    "200/60\n",
    "## This will convert 200 minutes to hours by diving by 60"
   ]
  },
  {
   "cell_type": "markdown",
   "id": "192ac753-ceb6-4978-861c-de36748e15ed",
   "metadata": {
    "tags": []
   },
   "source": [
    "<h2> Author <h2>\n",
    "    \n",
    "Alex Geissler"
   ]
  }
 ],
 "metadata": {
  "kernelspec": {
   "display_name": "Python 3 (ipykernel)",
   "language": "python",
   "name": "python3"
  },
  "language_info": {
   "codemirror_mode": {
    "name": "ipython",
    "version": 3
   },
   "file_extension": ".py",
   "mimetype": "text/x-python",
   "name": "python",
   "nbconvert_exporter": "python",
   "pygments_lexer": "ipython3",
   "version": "3.10.9"
  }
 },
 "nbformat": 4,
 "nbformat_minor": 5
}
